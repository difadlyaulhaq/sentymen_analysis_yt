{
 "cells": [
  {
   "cell_type": "code",
   "execution_count": 11,
   "id": "2d5786c6",
   "metadata": {},
   "outputs": [
    {
     "name": "stdout",
     "output_type": "stream",
     "text": [
      "Selesai! Disimpan 3019 komentar di 'english_comments.csv'\n"
     ]
    }
   ],
   "source": [
    "import re\n",
    "import csv\n",
    "import langdetect\n",
    "from itertools import islice\n",
    "from youtube_comment_downloader import YoutubeCommentDownloader, SORT_BY_POPULAR\n",
    "\n",
    "# Inisialisasi downloader\n",
    "downloader = YoutubeCommentDownloader()\n",
    "\n",
    "# Fungsi untuk membersihkan komentar (hapus spasi berlebihan, karakter aneh, emoji)\n",
    "def clean_comment(text):\n",
    "    # Hapus emoji\n",
    "    emoji_pattern = re.compile(\n",
    "        \"[\"\n",
    "        u\"\\U0001F600-\\U0001F64F\"  # emoticon\n",
    "        u\"\\U0001F300-\\U0001F5FF\"  # simbol & pictograph\n",
    "        u\"\\U0001F680-\\U0001F6FF\"  # transport & map symbols\n",
    "        u\"\\U0001F1E0-\\U0001F1FF\"  # bendera (iOS)\n",
    "        u\"\\U00002700-\\U000027BF\"  # Dingbats\n",
    "        u\"\\U000024C2-\\U0001F251\" \n",
    "        \"]+\", flags=re.UNICODE\n",
    "    )\n",
    "    text = emoji_pattern.sub(r'', text)\n",
    "\n",
    "    # Hapus \"(diedit)\" dan spasi berlebihan\n",
    "    text = re.sub(r'\\(diedit\\)', '', text, flags=re.IGNORECASE)\n",
    "    text = re.sub(r'\\s+', ' ', text)\n",
    "    text = text.replace('\\n', ' ').replace('\\r', '')\n",
    "    # regex for numbers and special characters\n",
    "    text = re.sub(r'[^a-zA-Z0-9\\s]', '', text)\n",
    "    text = re.sub(r'\\s+', ' ', text)  # Hapus spasi berlebihan\n",
    "    text = text.strip()\n",
    "    return text\n",
    "\n",
    "# Fungsi cek apakah komentar berbahasa Inggris\n",
    "def is_english(text):\n",
    "    try:\n",
    "        lang = langdetect.detect(text)\n",
    "        return lang == 'en'\n",
    "    except:\n",
    "        return False\n",
    "\n",
    "# Ambil komentar dari URL\n",
    "comments = downloader.get_comments_from_url(\n",
    "    'https://www.youtube.com/live/fK85SQzm0Z0?si=PyDLiqHhUi6mNmrs',\n",
    "    sort_by=SORT_BY_POPULAR\n",
    ")\n",
    "\n",
    "# List untuk simpan komentar\n",
    "filtered_comments = []\n",
    "\n",
    "# Proses komentar\n",
    "for comment in islice(comments, 15000):\n",
    "    raw_text = comment.get('text', '')\n",
    "    cleaned_text = clean_comment(raw_text)\n",
    "\n",
    "    if is_english(cleaned_text) and cleaned_text:\n",
    "        filtered_comments.append([cleaned_text])\n",
    "\n",
    "# Simpan ke file CSV\n",
    "with open('english_comments.csv', mode='w', newline='', encoding='utf-8') as file:\n",
    "    writer = csv.writer(file)\n",
    "    writer.writerow(['comment'])  # Header CSV\n",
    "    writer.writerows(filtered_comments)\n",
    "\n",
    "print(f\"Selesai! Disimpan {len(filtered_comments)} komentar di 'english_comments.csv'\")\n"
   ]
  },
  {
   "cell_type": "code",
   "execution_count": null,
   "id": "b15efa33",
   "metadata": {},
   "outputs": [
    {
     "name": "stderr",
     "output_type": "stream",
     "text": [
      "Xet Storage is enabled for this repo, but the 'hf_xet' package is not installed. Falling back to regular HTTP download. For better performance, install the package with: `pip install huggingface_hub[hf_xet]` or `pip install hf_xet`\n"
     ]
    },
    {
     "data": {
      "application/vnd.jupyter.widget-view+json": {
       "model_id": "629d21f6d1844edc8507f30989b7f845",
       "version_major": 2,
       "version_minor": 0
      },
      "text/plain": [
       "model.safetensors:   0%|          | 0.00/268M [00:00<?, ?B/s]"
      ]
     },
     "metadata": {},
     "output_type": "display_data"
    },
    {
     "name": "stderr",
     "output_type": "stream",
     "text": [
      "Error while downloading from https://huggingface.co/distilbert-base-uncased-finetuned-sst-2-english/resolve/main/model.safetensors: HTTPSConnectionPool(host='cas-bridge.xethub.hf.co', port=443): Read timed out.\n",
      "Trying to resume download...\n"
     ]
    },
    {
     "data": {
      "application/vnd.jupyter.widget-view+json": {
       "model_id": "434ff2b8a35c40c7b64323b3fb057ce6",
       "version_major": 2,
       "version_minor": 0
      },
      "text/plain": [
       "model.safetensors:  31%|###1      | 83.9M/268M [00:00<?, ?B/s]"
      ]
     },
     "metadata": {},
     "output_type": "display_data"
    }
   ],
   "source": [
    "import os\n",
    "os.environ[\"TRANSFORMERS_NO_TF\"] = \"1\"\n",
    "\n",
    "# ===== TAMBAHAN UNTUK SENTIMEN ANALISIS DAN WORDCLOUD =====\n",
    "\n",
    "from transformers import pipeline\n",
    "import pandas as pd\n",
    "import matplotlib.pyplot as plt\n",
    "from wordcloud import WordCloud\n",
    "\n",
    "# lanjut...\n",
    "\n",
    "\n",
    "# Load data dari CSV\n",
    "df = pd.read_csv('english_comments.csv')\n",
    "\n",
    "# Load model sentiment analysis BERT\n",
    "sentiment_pipeline = pipeline(\"sentiment-analysis\", model=\"distilbert-base-uncased-finetuned-sst-2-english\")\n",
    "\n",
    "# Prediksi sentimen\n",
    "results = sentiment_pipeline(df['comment'].tolist())\n",
    "\n",
    "# Tambahkan hasil ke dataframe\n",
    "df['label'] = [r['label'] for r in results]\n",
    "df['score'] = [r['score'] for r in results]\n",
    "\n",
    "# Simpan hasil baru ke CSV\n",
    "df.to_csv('english_comments_with_sentiment.csv', index=False)\n",
    "\n",
    "print(\"Sentiment analysis selesai! Disimpan ke 'english_comments_with_sentiment.csv'\")\n",
    "\n",
    "# Buat WordCloud berdasarkan komentar positif\n",
    "positive_comments = ' '.join(df[df['label'] == 'POSITIVE']['comment'].tolist())\n",
    "\n",
    "wordcloud = WordCloud(width=1600, height=800, background_color='white').generate(positive_comments)\n",
    "\n",
    "# Tampilkan WordCloud\n",
    "plt.figure(figsize=(12, 6))\n",
    "plt.imshow(wordcloud, interpolation='bilinear')\n",
    "plt.axis('off')\n",
    "plt.title('WordCloud for Positive Comments', fontsize=20)\n",
    "plt.show()\n"
   ]
  }
 ],
 "metadata": {
  "kernelspec": {
   "display_name": "Python 3",
   "language": "python",
   "name": "python3"
  },
  "language_info": {
   "codemirror_mode": {
    "name": "ipython",
    "version": 3
   },
   "file_extension": ".py",
   "mimetype": "text/x-python",
   "name": "python",
   "nbconvert_exporter": "python",
   "pygments_lexer": "ipython3",
   "version": "3.9.6"
  }
 },
 "nbformat": 4,
 "nbformat_minor": 5
}
